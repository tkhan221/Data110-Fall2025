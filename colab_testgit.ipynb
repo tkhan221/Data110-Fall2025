{
  "nbformat": 4,
  "nbformat_minor": 0,
  "metadata": {
    "colab": {
      "provenance": [],
      "authorship_tag": "ABX9TyPt7Gko45BxJGWLenOk6dop",
      "include_colab_link": true
    },
    "kernelspec": {
      "name": "python3",
      "display_name": "Python 3"
    },
    "language_info": {
      "name": "python"
    }
  },
  "cells": [
    {
      "cell_type": "markdown",
      "metadata": {
        "id": "view-in-github",
        "colab_type": "text"
      },
      "source": [
        "<a href=\"https://colab.research.google.com/github/tkhan221/Data110-Fall2025/blob/main/colab_testgit.ipynb\" target=\"_parent\"><img src=\"https://colab.research.google.com/assets/colab-badge.svg\" alt=\"Open In Colab\"/></a>"
      ]
    },
    {
      "cell_type": "code",
      "execution_count": 3,
      "metadata": {
        "colab": {
          "base_uri": "https://localhost:8080/"
        },
        "id": "yCyuPqYE5aHA",
        "outputId": "61f4d06e-795c-4a37-c17b-f6c5105fcd3e"
      },
      "outputs": [
        {
          "output_type": "stream",
          "name": "stdout",
          "text": [
            "Hello Class\n"
          ]
        }
      ],
      "source": [
        "print(\"Hello Class\")"
      ]
    },
    {
      "cell_type": "code",
      "source": [
        "print(2+6)\n",
        "\n"
      ],
      "metadata": {
        "colab": {
          "base_uri": "https://localhost:8080/"
        },
        "id": "GT80zWFM8LHk",
        "outputId": "3e7df3b1-6eb0-4009-dbfd-6dfc65ed6e4e"
      },
      "execution_count": 5,
      "outputs": [
        {
          "output_type": "stream",
          "name": "stdout",
          "text": [
            "8\n"
          ]
        }
      ]
    },
    {
      "cell_type": "code",
      "source": [
        "# matplot is for data visulization\n",
        "import matplotlib.pyplot as plt\n",
        "# to work with arrays and dataframe\n",
        "import numpy as np\n"
      ],
      "metadata": {
        "id": "Id41Kra89u0B"
      },
      "execution_count": 8,
      "outputs": []
    }
  ]
}