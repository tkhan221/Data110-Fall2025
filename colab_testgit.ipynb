{
  "nbformat": 4,
  "nbformat_minor": 0,
  "metadata": {
    "colab": {
      "provenance": [],
      "authorship_tag": "ABX9TyO8+GC6vuJBWsDgM5klNilB",
      "include_colab_link": true
    },
    "kernelspec": {
      "name": "python3",
      "display_name": "Python 3"
    },
    "language_info": {
      "name": "python"
    }
  },
  "cells": [
    {
      "cell_type": "markdown",
      "metadata": {
        "id": "view-in-github",
        "colab_type": "text"
      },
      "source": [
        "<a href=\"https://colab.research.google.com/github/tkhan221/Data110-Fall2025/blob/main/colab_testgit.ipynb\" target=\"_parent\"><img src=\"https://colab.research.google.com/assets/colab-badge.svg\" alt=\"Open In Colab\"/></a>"
      ]
    },
    {
      "cell_type": "code",
      "execution_count": 57,
      "metadata": {
        "colab": {
          "base_uri": "https://localhost:8080/"
        },
        "id": "yCyuPqYE5aHA",
        "outputId": "7aca9c39-2d30-434d-ecaa-38c48557e66a"
      },
      "outputs": [
        {
          "output_type": "stream",
          "name": "stdout",
          "text": [
            "Hello Class\n"
          ]
        }
      ],
      "source": [
        "print(\"Hello Class\")"
      ]
    },
    {
      "cell_type": "code",
      "source": [
        "print(2+6)\n",
        "\n"
      ],
      "metadata": {
        "colab": {
          "base_uri": "https://localhost:8080/"
        },
        "id": "GT80zWFM8LHk",
        "outputId": "29dd093a-a65e-4ce0-efdf-691a885314a8"
      },
      "execution_count": 58,
      "outputs": [
        {
          "output_type": "stream",
          "name": "stdout",
          "text": [
            "8\n"
          ]
        }
      ]
    },
    {
      "cell_type": "code",
      "source": [
        "# matplot is for data visulization\n",
        "import matplotlib.pyplot as plt\n",
        "# to work with array, numerical calculation\n",
        "import numpy as np\n",
        "# for dataframe\n",
        "import pandas as pd\n",
        "\n"
      ],
      "metadata": {
        "id": "Id41Kra89u0B"
      },
      "execution_count": 59,
      "outputs": []
    },
    {
      "cell_type": "markdown",
      "source": [
        "Now,we need to add a dataset..."
      ],
      "metadata": {
        "id": "mDJnymS--sh8"
      }
    },
    {
      "cell_type": "code",
      "source": [
        "#df=pd.read_csv('/content/hapinesss.csv')\n",
        "import pandas as pd\n",
        "ds=pd.read_csv('')"
      ],
      "metadata": {
        "id": "T0UmmCjn-vOW"
      },
      "execution_count": 5,
      "outputs": []
    },
    {
      "cell_type": "markdown",
      "source": [
        "Use our friend github\n"
      ],
      "metadata": {
        "id": "zEEX9mzZEncP"
      }
    },
    {
      "cell_type": "markdown",
      "source": [],
      "metadata": {
        "id": "2NrqCXvqFe1r"
      }
    },
    {
      "cell_type": "code",
      "source": [
        "import pandas as pd\n",
        "ds=pd.read_csv('https://raw.githubusercontent.com/Reben80/Data110-21843--fall25/refs/heads/main/dataset/happiness.csv')"
      ],
      "metadata": {
        "id": "gGx6QUuuVo8R"
      },
      "execution_count": 4,
      "outputs": []
    },
    {
      "cell_type": "code",
      "source": [],
      "metadata": {
        "id": "UrgCj8LoV3wR"
      },
      "execution_count": null,
      "outputs": []
    }
  ]
}