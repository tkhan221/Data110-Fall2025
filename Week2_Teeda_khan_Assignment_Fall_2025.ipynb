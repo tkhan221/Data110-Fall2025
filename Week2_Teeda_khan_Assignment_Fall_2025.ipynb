{
  "cells": [
    {
      "cell_type": "markdown",
      "metadata": {
        "id": "view-in-github",
        "colab_type": "text"
      },
      "source": [
        "<a href=\"https://colab.research.google.com/github/tkhan221/Data110-Fall2025/blob/main/Week2_Teeda_khan_Assignment_Fall_2025.ipynb\" target=\"_parent\"><img src=\"https://colab.research.google.com/assets/colab-badge.svg\" alt=\"Open In Colab\"/></a>"
      ]
    },
    {
      "cell_type": "markdown",
      "id": "f5a443ac",
      "metadata": {
        "id": "f5a443ac"
      },
      "source": [
        "# Week 2 — In‑Class Python Work & Assignment\n",
        "*Prepared: September 12, 2025*\n",
        "\n",
        "This notebook combines everything covered **in class (Week 2)** and the **assignment** you will submit: run cells top‑to‑bottom, add your answers where prompted, and submit this file.\n",
        "\n",
        "### Contents\n",
        "1. [Part A — In‑Class Python Work](#part-a)\n",
        "2. [Part B — Assignment: Anscombe’s Quartet](#part-b)\n"
      ]
    },
    {
      "cell_type": "markdown",
      "id": "4249c99b",
      "metadata": {
        "id": "4249c99b"
      },
      "source": [
        "---\n",
        "\n",
        "<a id='part-a'></a>\n",
        "\n",
        "## Part A — In‑Class Python Work"
      ]
    },
    {
      "cell_type": "code",
      "execution_count": null,
      "id": "33d9658f",
      "metadata": {
        "id": "33d9658f"
      },
      "outputs": [],
      "source": [
        "import matplotlib.pyplot as plt\n",
        "import numpy as np\n",
        "import pandas as pd\n"
      ]
    },
    {
      "cell_type": "markdown",
      "id": "d8acbfb1",
      "metadata": {
        "id": "d8acbfb1"
      },
      "source": [
        "The dataset we are using is the World Happiness Report dataset. which can be found in the file https://github.com/Reben80/Data110-21843--fall25/tree/main/dataset"
      ]
    },
    {
      "cell_type": "code",
      "source": [],
      "metadata": {
        "id": "wrQ9eUPnd1za"
      },
      "id": "wrQ9eUPnd1za",
      "execution_count": null,
      "outputs": []
    },
    {
      "cell_type": "code",
      "execution_count": null,
      "id": "05ec29bd",
      "metadata": {
        "id": "05ec29bd"
      },
      "outputs": [],
      "source": [
        "# Load the dataset but before that we need to download the dataset from the link above and upload it to the colab file\n",
        "\n",
        "\n",
        "# or you can just copy the link of the dataset and read as bellow\n",
        "df = pd.read_csv(\"https://raw.githubusercontent.com/tkhan221/Data110-Fall2025/main/happiness%20(1).csv\")\n"
      ]
    },
    {
      "cell_type": "code",
      "execution_count": null,
      "id": "12788319",
      "metadata": {
        "collapsed": true,
        "id": "12788319"
      },
      "outputs": [],
      "source": [
        "# 1. View the first few rows\n",
        "print(df.head)\n",
        "\n",
        "\n",
        "\n"
      ]
    },
    {
      "cell_type": "code",
      "execution_count": null,
      "id": "21231c64",
      "metadata": {
        "id": "21231c64"
      },
      "outputs": [],
      "source": [
        "# 2. Get summary statistics\n",
        "print(df.describe())\n"
      ]
    },
    {
      "cell_type": "code",
      "execution_count": null,
      "id": "567c09cc",
      "metadata": {
        "id": "567c09cc"
      },
      "outputs": [],
      "source": [
        "# 3. Check the shape (rows, columns)\n",
        "print(df.shape)"
      ]
    },
    {
      "cell_type": "code",
      "execution_count": null,
      "id": "9ff97c08",
      "metadata": {
        "id": "9ff97c08"
      },
      "outputs": [],
      "source": [
        "\n",
        "# 4. View column names\n",
        "print(df.columns)\n"
      ]
    },
    {
      "cell_type": "code",
      "execution_count": null,
      "id": "81f324d5",
      "metadata": {
        "id": "81f324d5"
      },
      "outputs": [],
      "source": [
        "\n",
        "# 5. Get data types and info\n",
        "print(df.info())\n",
        "\n"
      ]
    },
    {
      "cell_type": "code",
      "execution_count": null,
      "id": "049a259f",
      "metadata": {
        "id": "049a259f"
      },
      "outputs": [],
      "source": [
        "\n",
        "\n",
        "\n",
        "# 6. Count unique values in the 'Country' column (or any other relevant column)\n",
        "print(df['country'].value_counts())"
      ]
    },
    {
      "cell_type": "markdown",
      "id": "c4408272",
      "metadata": {
        "id": "c4408272"
      },
      "source": [
        "### Example 1: Happiness Score vs. Log GDP per Capita"
      ]
    },
    {
      "cell_type": "code",
      "execution_count": null,
      "id": "672dbd21",
      "metadata": {
        "id": "672dbd21"
      },
      "outputs": [],
      "source": [
        "\n",
        "# Scatter plot of Happiness Score vs Log GDP per Capita-update to social support\n",
        "plt.scatter(df['Happiness Score'], df['Social support'])\n",
        "plt.xlabel('Happiness Score')\n",
        "plt.ylabel('Social support')\n",
        "plt.title('Happiness Score vs Social support')\n",
        "plt.xlim(left=0)\n",
        "plt.ylim(bottom=0)\n",
        "plt.show()\n"
      ]
    },
    {
      "cell_type": "code",
      "source": [],
      "metadata": {
        "id": "LfTThc5ulHvK"
      },
      "id": "LfTThc5ulHvK",
      "execution_count": null,
      "outputs": []
    },
    {
      "cell_type": "markdown",
      "id": "ce389125",
      "metadata": {
        "id": "ce389125"
      },
      "source": [
        "### Example 2: Happiness Score vs. Healthy Life Expectancy"
      ]
    },
    {
      "cell_type": "markdown",
      "source": [],
      "metadata": {
        "id": "h-n2j7whmQyr"
      },
      "id": "h-n2j7whmQyr"
    },
    {
      "cell_type": "code",
      "execution_count": null,
      "id": "98434489",
      "metadata": {
        "id": "98434489"
      },
      "outputs": [],
      "source": [
        "# Scatter plot of Happiness Score vs Healthy Life Expectancy at Birth\n",
        "plt.scatter(df['Happiness Score'], df['Healthy life expectancy at birth'])\n",
        "plt.xlabel('Happiness Score ')\n",
        "plt.ylabel('Healthy Life Expectancy at Birth')\n",
        "plt.title('Happiness Score vs Healthy Life Expectancy at Birth ')\n",
        "plt.xlim(left=0)\n",
        "plt.ylim(bottom=0)\n",
        "\n",
        "plt.show()\n"
      ]
    },
    {
      "cell_type": "markdown",
      "id": "38cf8dc9",
      "metadata": {
        "id": "38cf8dc9"
      },
      "source": [
        "###  Tasks:\n",
        "- **Happiness Score vs Social Support** (`Social support`)\n",
        "- **Happiness Score vs Freedom to Make Life Choices** (`Freedom to make life choices`)\n",
        "- **Happiness Score vs Generosity** (`Generosity`)\n",
        "\n",
        "Update your code using the correct column names based on this.\n",
        "\n",
        "### Extra Task:\n",
        "Create **two scatter plots** using columns that do not have a meaningful relationship. For example, you might plot **Generosity** against **Healthy Life Expectancy**."
      ]
    },
    {
      "cell_type": "code",
      "execution_count": null,
      "id": "9cb3ddc3",
      "metadata": {
        "id": "9cb3ddc3"
      },
      "outputs": [],
      "source": [
        "# Your code related to Happiness Score vs Social Support (Social support) need to be here\n",
        "plt.scatter(df['Happiness Score'], df['Social support'])\n",
        "plt.xlabel('Happiness Score')\n",
        "plt.ylabel('Social support')\n",
        "plt.title('Happiness Score vs Social support')\n",
        "plt.xlim(left=0)\n",
        "plt.ylim(bottom=0)\n",
        "plt.show()"
      ]
    },
    {
      "cell_type": "code",
      "execution_count": null,
      "id": "ca05eadf",
      "metadata": {
        "id": "ca05eadf"
      },
      "outputs": [],
      "source": [
        "# Your code related to Happiness Score vs Freedom to Make Life Choices (Freedom to make life choices) need to be here\n",
        "plt.scatter(df['Happiness Score'], df['Freedom to make life choices'])\n",
        "plt.xlabel('Happiness Score ')\n",
        "plt.ylabel('Freedom to make life choices')\n",
        "plt.title('Happiness Score vs Freedom to make life choices ')\n",
        "plt.xlim(left=0)\n",
        "plt.ylim(bottom=0)\n",
        "\n",
        "plt.show()"
      ]
    },
    {
      "cell_type": "code",
      "execution_count": null,
      "id": "7994e092",
      "metadata": {
        "id": "7994e092"
      },
      "outputs": [],
      "source": [
        "# Your code related to Happiness Score vs Generosity (Generosity) need to be here\n",
        "plt.scatter(df['Happiness Score'], df['Generosity'])\n",
        "plt.xlabel('Happiness Score')\n",
        "plt.ylabel('Generosity')\n",
        "plt.title('Happiness Score vs Generosity')\n",
        "plt.xlim(left=0)\n",
        "plt.ylim(bottom=-0.4)\n",
        "plt.show()"
      ]
    },
    {
      "cell_type": "code",
      "execution_count": null,
      "id": "577c3335",
      "metadata": {
        "id": "577c3335"
      },
      "outputs": [],
      "source": [
        "# Extra Task 1 code-"
      ]
    },
    {
      "cell_type": "code",
      "execution_count": null,
      "id": "0b860aaf",
      "metadata": {
        "id": "0b860aaf"
      },
      "outputs": [],
      "source": [
        "# Extra Task 2 code"
      ]
    },
    {
      "cell_type": "markdown",
      "id": "ef9f08fe",
      "metadata": {
        "id": "ef9f08fe"
      },
      "source": [
        "---\n",
        "\n",
        "<a id='part-b'></a>\n",
        "\n",
        "## Part B — Assignment: Anscombe’s Quartet"
      ]
    },
    {
      "cell_type": "markdown",
      "id": "1c596ac8",
      "metadata": {
        "id": "1c596ac8"
      },
      "source": [
        "### Step 1: Import Necessary Packages\n",
        "\n",
        "Before we begin, we need to import the necessary Python libraries for plotting and performing the regression. We'll use:\n",
        "\n",
        "- `matplotlib.pyplot` for creating the graph\n",
        "- `numpy` for numerical operations\n"
      ]
    },
    {
      "cell_type": "code",
      "execution_count": null,
      "id": "7652fade",
      "metadata": {
        "id": "7652fade"
      },
      "outputs": [],
      "source": [
        "import matplotlib.pyplot as plt\n",
        "import numpy as np"
      ]
    },
    {
      "cell_type": "markdown",
      "id": "95e0161c",
      "metadata": {
        "id": "95e0161c"
      },
      "source": [
        "### Step 2: Anscombe's Quartet Dataset\n",
        "\n",
        "This dataset is known as **Anscombe's Quartet**, created by statistician Francis Anscombe to illustrate the importance of visualizing data. Despite having nearly identical statistical properties (e.g., mean, variance, correlation, and linear regression), each dataset tells a very different story when graphed.\n",
        "\n",
        "- **x**: The independent variable, common across three datasets.\n",
        "- **y1, y2, y3**: Three different dependent variables associated with the same `x` values.\n",
        "- **x4, y4**: A special case where most of the `x` values are identical, with one outlier.\n",
        "\n",
        "#### Anscombe's Quartet:\n",
        "\n",
        "`"
      ]
    },
    {
      "cell_type": "code",
      "execution_count": null,
      "id": "fb69b5be",
      "metadata": {
        "id": "fb69b5be"
      },
      "outputs": [],
      "source": [
        "# Anscombe's Quartet:\n",
        "x = [10, 8, 13, 9, 11, 14, 6, 4, 12, 7, 5]\n",
        "y1 = [8.04, 6.95, 7.58, 8.81, 8.33, 9.96, 7.24, 4.26, 10.84, 4.82, 5.68]\n",
        "y2 = [9.14, 8.14, 8.74, 8.77, 9.26, 8.10, 6.13, 3.10, 9.13, 7.26, 4.74]\n",
        "y3 = [7.46, 6.77, 12.74, 7.11, 7.81, 8.84, 6.08, 5.39, 8.15, 6.42, 5.73]\n",
        "x4 = [8, 8, 8, 8, 8, 8, 8, 19, 8, 8, 8]\n",
        "y4 = [6.58, 5.76, 7.71, 8.84, 8.47, 7.04, 5.25, 12.50, 5.56, 7.91, 6.89]\n"
      ]
    },
    {
      "cell_type": "code",
      "execution_count": null,
      "id": "0e5fd759",
      "metadata": {
        "id": "0e5fd759"
      },
      "outputs": [],
      "source": [
        "plt.scatter(x, y1)\n"
      ]
    },
    {
      "cell_type": "code",
      "execution_count": null,
      "id": "6b6703a9",
      "metadata": {
        "id": "6b6703a9"
      },
      "outputs": [],
      "source": [
        "# Calculate the slope (m) and intercept (b) of the line using np.polyfit\n",
        "m, b = np.polyfit(x, y1, 1)\n",
        "\n",
        "# Create the regression line\n",
        "regression_line = m * np.array(x) + b\n",
        "\n",
        "# Plot the data points and regression line\n",
        "plt.scatter(x, y1)\n",
        "plt.plot(x, regression_line,color='red')\n",
        "plt.xlabel('x')\n",
        "plt.ylabel('y1')\n"
      ]
    },
    {
      "cell_type": "markdown",
      "id": "905e7628",
      "metadata": {
        "id": "905e7628"
      },
      "source": [
        "### Your Task:\n",
        "\n",
        "Perform the same linear regression process for the following datasets: y2, y3, and y4.\n",
        "Modify the code to calculate and plot the regression lines for each of these datasets.\n",
        "Use distinct colors for each plot and appropriately label the axes (y2, y3, etc.).\n",
        "Discuss any differences you observe when comparing the results across all datasets.\n"
      ]
    },
    {
      "cell_type": "code",
      "execution_count": null,
      "id": "bfe060f0",
      "metadata": {
        "id": "bfe060f0"
      },
      "outputs": [],
      "source": [
        "# Your Code need to be here for x and y2"
      ]
    },
    {
      "cell_type": "code",
      "execution_count": null,
      "id": "0214ede2",
      "metadata": {
        "id": "0214ede2"
      },
      "outputs": [],
      "source": [
        "# Your Code need to be here for x and y3"
      ]
    },
    {
      "cell_type": "code",
      "execution_count": null,
      "id": "50d01cc7",
      "metadata": {
        "id": "50d01cc7"
      },
      "outputs": [],
      "source": [
        "# Your code need to be here for x and y4"
      ]
    },
    {
      "cell_type": "code",
      "execution_count": null,
      "id": "fff74142",
      "metadata": {
        "id": "fff74142"
      },
      "outputs": [],
      "source": [
        "# Your code need to be here for x4 and y4"
      ]
    },
    {
      "cell_type": "markdown",
      "id": "8a4d9a94",
      "metadata": {
        "id": "8a4d9a94"
      },
      "source": [
        "### Reflection Question:\n",
        "\n",
        "After visualizing the linear regression for all four datasets in Anscombe's Quartet, reflect on the following:\n",
        "\n",
        "#### What is your reflection?\n",
        "- How do the datasets visually differ despite having similar summary statistics?\n",
        "- How did the outlier in the `x4, y4` dataset affect the regression line compared to the other datasets?\n",
        "- Why is it important to visualize data in addition to calculating summary statistics?\n",
        "\n",
        "Please provide your insights and discuss the importance of data visualization in understanding relationships between variables.\n"
      ]
    },
    {
      "cell_type": "markdown",
      "id": "792b7ad8",
      "metadata": {
        "id": "792b7ad8"
      },
      "source": [
        "---\n",
        "\n",
        "**Submission Reminder**\n",
        "\n",
        "- Before submitting, restart the kernel and run **Run All** to ensure a clean, reproducible output.\n",
        "- Save as `Week2_yourname_Assignment.ipynb`.\n",
        "- Upload to the designated location in MS Teams / GitHub as instructed."
      ]
    }
  ],
  "metadata": {
    "colab": {
      "private_outputs": true,
      "provenance": [],
      "include_colab_link": true
    },
    "kernelspec": {
      "display_name": "Python 3",
      "name": "python3"
    },
    "language_info": {
      "name": "python"
    }
  },
  "nbformat": 4,
  "nbformat_minor": 5
}